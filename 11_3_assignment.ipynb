{
  "nbformat": 4,
  "nbformat_minor": 0,
  "metadata": {
    "colab": {
      "provenance": [],
      "authorship_tag": "ABX9TyN7u/8IwGgHN7uip5uAt4Ar",
      "include_colab_link": true
    },
    "kernelspec": {
      "name": "python3",
      "display_name": "Python 3"
    },
    "language_info": {
      "name": "python"
    }
  },
  "cells": [
    {
      "cell_type": "markdown",
      "metadata": {
        "id": "view-in-github",
        "colab_type": "text"
      },
      "source": [
        "<a href=\"https://colab.research.google.com/github/2403a51178/1178/blob/main/11_3_assignment.ipynb\" target=\"_parent\"><img src=\"https://colab.research.google.com/assets/colab-badge.svg\" alt=\"Open In Colab\"/></a>"
      ]
    },
    {
      "cell_type": "markdown",
      "source": [
        "TASK 1: Ask AI to implement a stack class with push(), pop(), peek() and\n",
        "is_empty() methods"
      ],
      "metadata": {
        "id": "ldUPAuFoij7O"
      }
    },
    {
      "cell_type": "code",
      "execution_count": 6,
      "metadata": {
        "colab": {
          "base_uri": "https://localhost:8080/"
        },
        "id": "bV6JkXryfyBx",
        "outputId": "7bd47136-844c-434b-acfc-b2b3495f2163"
      },
      "outputs": [
        {
          "output_type": "stream",
          "name": "stdout",
          "text": [
            "20\n",
            "20\n",
            "False\n",
            "10\n",
            "True\n"
          ]
        }
      ],
      "source": [
        "class Stack:\n",
        "    def __init__(self):\n",
        "        self.items = []\n",
        "\n",
        "    def push(self, item):\n",
        "        \"\"\"Adds an item to the top of the stack.\"\"\"\n",
        "        self.items.append(item)\n",
        "\n",
        "    def pop(self):\n",
        "        \"\"\"Removes and returns the item from the top of the stack.\n",
        "           Returns None if the stack is empty.\"\"\"\n",
        "        if not self.is_empty():\n",
        "            return self.items.pop()\n",
        "        else:\n",
        "            return None\n",
        "\n",
        "    def peek(self):\n",
        "        \"\"\"Returns the item at the top of the stack without removing it.\n",
        "           Returns None if the stack is empty.\"\"\"\n",
        "        if not self.is_empty():\n",
        "            return self.items[-1]\n",
        "        else:\n",
        "            return None\n",
        "\n",
        "    def is_empty(self):\n",
        "        \"\"\"Returns True if the stack is empty, False otherwise.\"\"\"\n",
        "        return len(self.items) == 0\n",
        "\n",
        "# Example usage:\n",
        "stack = Stack()\n",
        "stack.push(10)\n",
        "stack.push(20)\n",
        "print(stack.peek())\n",
        "print(stack.pop())\n",
        "print(stack.is_empty())\n",
        "print(stack.pop())\n",
        "print(stack.is_empty())"
      ]
    },
    {
      "cell_type": "markdown",
      "source": [
        "TASK 2: Use AI to generate a Queue class with enqueue(), dequeue(), and\n",
        "is_empty()."
      ],
      "metadata": {
        "id": "qYM6qHnniaLZ"
      }
    },
    {
      "cell_type": "code",
      "source": [
        "class Queue:\n",
        "    def __init__(self):\n",
        "        self.items = []\n",
        "\n",
        "    def enqueue(self, item):\n",
        "        \"\"\"Adds an item to the end of the queue.\"\"\"\n",
        "        self.items.append(item)\n",
        "\n",
        "    def dequeue(self):\n",
        "        \"\"\"Removes and returns the item from the front of the queue.\n",
        "           Returns None if the queue is empty.\"\"\"\n",
        "        if not self.is_empty():\n",
        "            return self.items.pop(0)\n",
        "        else:\n",
        "            return None\n",
        "\n",
        "    def is_empty(self):\n",
        "        \"\"\"Returns True if the queue is empty, False otherwise.\"\"\"\n",
        "        return len(self.items) == 0\n",
        "\n",
        "# Example usage:\n",
        "queue = Queue()\n",
        "queue.enqueue(10)\n",
        "queue.enqueue(20)\n",
        "print(queue.dequeue()) # Output: 10\n",
        "print(queue.is_empty()) # Output: False\n",
        "print(queue.dequeue()) # Output: 20\n",
        "print(queue.is_empty()) # Output: True"
      ],
      "metadata": {
        "colab": {
          "base_uri": "https://localhost:8080/"
        },
        "id": "kFsETUvcf_3d",
        "outputId": "5d8f118e-b985-4350-dde7-d5098f92a40b"
      },
      "execution_count": 9,
      "outputs": [
        {
          "output_type": "stream",
          "name": "stdout",
          "text": [
            "10\n",
            "False\n",
            "20\n",
            "True\n"
          ]
        }
      ]
    },
    {
      "cell_type": "markdown",
      "source": [
        "TASK 3: Ask AI to create a singly linked list with insert_at_end(),\n",
        "insert_at_beginning(), and display()"
      ],
      "metadata": {
        "id": "000xL3_KiQdX"
      }
    },
    {
      "cell_type": "markdown",
      "source": [],
      "metadata": {
        "id": "IWf4UvkHiP_z"
      }
    },
    {
      "cell_type": "code",
      "source": [
        "class Node:\n",
        "    def __init__(self, data=None):\n",
        "        self.data = data\n",
        "        self.next = None\n",
        "\n",
        "class SinglyLinkedList:\n",
        "    def __init__(self):\n",
        "        self.head = None\n",
        "\n",
        "    def insert_at_beginning(self, data):\n",
        "        \"\"\"Inserts a new node with the given data at the beginning of the linked list.\"\"\"\n",
        "        new_node = Node(data)\n",
        "        new_node.next = self.head\n",
        "        self.head = new_node\n",
        "\n",
        "    def insert_at_end(self, data):\n",
        "        \"\"\"Inserts a new node with the given data at the end of the linked list.\"\"\"\n",
        "        new_node = Node(data)\n",
        "        if self.head is None:\n",
        "            self.head = new_node\n",
        "            return\n",
        "        last_node = self.head\n",
        "        while last_node.next:\n",
        "            last_node = last_node.next\n",
        "        last_node.next = new_node\n",
        "\n",
        "    def display(self):\n",
        "        \"\"\"Prints the data of each node in the linked list.\"\"\"\n",
        "        current = self.head\n",
        "        while current:\n",
        "            print(current.data, end=\" -> \")\n",
        "            current = current.next\n",
        "        print(\"None\")\n",
        "\n",
        "# Example usage:\n",
        "linked_list = SinglyLinkedList()\n",
        "linked_list.insert_at_beginning(10)\n",
        "linked_list.insert_at_end(20)\n",
        "linked_list.insert_at_beginning(5)\n",
        "linked_list.display()"
      ],
      "metadata": {
        "colab": {
          "base_uri": "https://localhost:8080/"
        },
        "id": "EoDWNP6UhFnE",
        "outputId": "15140083-3aa5-44e2-a180-14fe81b421d5"
      },
      "execution_count": 13,
      "outputs": [
        {
          "output_type": "stream",
          "name": "stdout",
          "text": [
            "5 -> 10 -> 20 -> None\n"
          ]
        }
      ]
    },
    {
      "cell_type": "markdown",
      "source": [
        "TASK 4: Ask AI to generate a simple BST with insert() and\n",
        "inorder_traversal().\n"
      ],
      "metadata": {
        "id": "6LOuUoP5h7hv"
      }
    },
    {
      "cell_type": "code",
      "source": [
        "class Node:\n",
        "    def __init__(self, key):\n",
        "        self.key = key\n",
        "        self.left = None\n",
        "        self.right = None\n",
        "\n",
        "class BST:\n",
        "    def __init__(self):\n",
        "        self.root = None\n",
        "\n",
        "    def insert(self, key):\n",
        "        \"\"\"Inserts a new node with the given key into the BST.\"\"\"\n",
        "        self.root = self._insert_recursive(self.root, key)\n",
        "\n",
        "    def _insert_recursive(self, root, key):\n",
        "        if root is None:\n",
        "            return Node(key)\n",
        "        if key < root.key:\n",
        "            root.left = self._insert_recursive(root.left, key)\n",
        "        elif key > root.key:\n",
        "            root.right = self._insert_recursive(root.right, key)\n",
        "        return root\n",
        "\n",
        "    def inorder_traversal(self):\n",
        "        \"\"\"Performs an inorder traversal of the BST and prints the keys.\"\"\"\n",
        "        self._inorder_traversal_recursive(self.root)\n",
        "        print() # Add a newline at the end\n",
        "\n",
        "    def _inorder_traversal_recursive(self, root):\n",
        "        if root:\n",
        "            self._inorder_traversal_recursive(root.left)\n",
        "            print(root.key, end=\" \")\n",
        "            self._inorder_traversal_recursive(root.right)\n",
        "\n",
        "# Example usage:\n",
        "bst = BST()\n",
        "bst.insert(50)\n",
        "bst.insert(30)\n",
        "bst.insert(20)\n",
        "bst.insert(40)\n",
        "bst.insert(70)\n",
        "bst.insert(60)\n",
        "bst.insert(80)\n",
        "\n",
        "print(\"Inorder traversal:\")\n",
        "bst.inorder_traversal() # Output: 20 30 40 50 60 70 80"
      ],
      "metadata": {
        "colab": {
          "base_uri": "https://localhost:8080/"
        },
        "id": "KyKqN8L9ha83",
        "outputId": "6ff39d40-6063-4c1e-b363-d6c3a95209dd"
      },
      "execution_count": 17,
      "outputs": [
        {
          "output_type": "stream",
          "name": "stdout",
          "text": [
            "Inorder traversal:\n",
            "20 30 40 50 60 70 80 \n"
          ]
        }
      ]
    }
  ]
}
{
  "nbformat": 4,
  "nbformat_minor": 0,
  "metadata": {
    "colab": {
      "provenance": [],
      "authorship_tag": "ABX9TyNDB2NE95tdc63g0QiY1yfn",
      "include_colab_link": true
    },
    "kernelspec": {
      "name": "python3",
      "display_name": "Python 3"
    },
    "language_info": {
      "name": "python"
    }
  },
  "cells": [
    {
      "cell_type": "markdown",
      "metadata": {
        "id": "view-in-github",
        "colab_type": "text"
      },
      "source": [
        "<a href=\"https://colab.research.google.com/github/2403a51178/1178/blob/main/2403A51178_(6_4).ipynb\" target=\"_parent\"><img src=\"https://colab.research.google.com/assets/colab-badge.svg\" alt=\"Open In Colab\"/></a>"
      ]
    },
    {
      "cell_type": "markdown",
      "source": [
        "TASK 1 STEP- Write a class skelton"
      ],
      "metadata": {
        "id": "XcRwUe5SX_kO"
      }
    },
    {
      "cell_type": "code",
      "execution_count": 1,
      "metadata": {
        "id": "sd5jjPsERT6j"
      },
      "outputs": [],
      "source": [
        "from os import name\n",
        "def__init__(self,name,roll_number,marks):\n",
        "  self.name=name\n",
        "  self.roll_number=roll_number\n",
        "  self.marks=marks"
      ]
    },
    {
      "cell_type": "code",
      "source": [
        "class Student:\n",
        "  def __init__(self, name, roll_number, marks):\n",
        "    self.name = name\n",
        "    self.roll_number = roll_number\n",
        "    self.marks = marks\n",
        "\n",
        "  def display_details(self):\n",
        "    print(f\"Name: {self.name}\")\n",
        "    print(f\"Roll Number: {self.roll_number}\")\n",
        "    print(f\"Marks: {self.marks}\")\n",
        "\n",
        "  def has_passed(self):\n",
        "    return self.marks >= 40\n",
        "\n",
        "# Example usage:\n",
        "# student1 = Student(\"Alice\", 101, 95)\n",
        "# student1.display_details()\n",
        "# print(f\"Has passed: {student1.has_passed()}\")"
      ],
      "metadata": {
        "id": "5EvPVapjShU4"
      },
      "execution_count": 3,
      "outputs": []
    },
    {
      "cell_type": "code",
      "source": [
        "# Test the Student class\n",
        "student1 = Student(\"Alice\", 101, 95)\n",
        "student1.display_details()\n",
        "print(f\"Has passed: {student1.has_passed()}\")\n",
        "\n",
        "student2 = Student(\"Bob\", 102, 35)\n",
        "student2.display_details()\n",
        "print(f\"Has passed: {student2.has_passed()}\")"
      ],
      "metadata": {
        "colab": {
          "base_uri": "https://localhost:8080/"
        },
        "id": "UZoU_4HCSuNE",
        "outputId": "13dc31ef-0334-4f60-a0c7-c0fb99a384bf"
      },
      "execution_count": 4,
      "outputs": [
        {
          "output_type": "stream",
          "name": "stdout",
          "text": [
            "Name: Alice\n",
            "Roll Number: 101\n",
            "Marks: 95\n",
            "Has passed: True\n",
            "Name: Bob\n",
            "Roll Number: 102\n",
            "Marks: 35\n",
            "Has passed: False\n"
          ]
        }
      ]
    },
    {
      "cell_type": "markdown",
      "source": [
        "TASK-2 write the first two lines of a for loop to iterate through a list of numbers"
      ],
      "metadata": {
        "id": "RDWguHqJYQHE"
      }
    },
    {
      "cell_type": "code",
      "source": [
        "numbers = [1, 2, 3, 4, 5]\n",
        "for number in numbers:\n",
        "  pass\n",
        "print(numbers)"
      ],
      "metadata": {
        "colab": {
          "base_uri": "https://localhost:8080/"
        },
        "id": "I3mDRNEcXd-A",
        "outputId": "bf1a78ee-a93b-4bd6-d40c-9222b700e06a"
      },
      "execution_count": 11,
      "outputs": [
        {
          "output_type": "stream",
          "name": "stdout",
          "text": [
            "[1, 2, 3, 4, 5]\n"
          ]
        }
      ]
    },
    {
      "cell_type": "code",
      "source": [
        "numbers = [1, 2, 3, 4, 5, 6, 7, 8, 9, 10]\n",
        "for number in numbers:\n",
        "  if number % 2 == 0:\n",
        "    square = number ** 2\n",
        "    print(f\"The square of {number} is {square}\")"
      ],
      "metadata": {
        "colab": {
          "base_uri": "https://localhost:8080/"
        },
        "id": "nYx7kiOnawah",
        "outputId": "e9ef80d5-945b-46e2-e412-b1651af21def"
      },
      "execution_count": 12,
      "outputs": [
        {
          "output_type": "stream",
          "name": "stdout",
          "text": [
            "The square of 2 is 4\n",
            "The square of 4 is 16\n",
            "The square of 6 is 36\n",
            "The square of 8 is 64\n",
            "The square of 10 is 100\n"
          ]
        }
      ]
    },
    {
      "cell_type": "markdown",
      "source": [
        "TASK 3:\n",
        "Create a class called BankAccount with attributes account_holder and balance. Use Copilot to\n",
        "complete methods for deposit(), withdraw(), and check for insufficient balance"
      ],
      "metadata": {
        "id": "Ma2Wc9_tePYV"
      }
    },
    {
      "cell_type": "code",
      "source": [
        "class BankAccount:\n",
        "    def __init__(self, account_holder, balance=0):\n",
        "        self.account_holder = account_holder\n",
        "        self.balance = balance\n",
        "\n",
        "    def deposit(self, amount):\n",
        "        if amount > 0:\n",
        "            self.balance += amount\n",
        "            print(f\"Deposited {amount}. New balance: {self.balance}\")\n",
        "        else:\n",
        "            print(\"Deposit amount must be positive.\")\n",
        "\n",
        "    def withdraw(self, amount):\n",
        "        if self.check_insufficient_balance(amount):\n",
        "            self.balance -= amount\n",
        "            print(f\"Withdrew {amount}. New balance: {self.balance}\")\n",
        "        else:\n",
        "            print(\"Insufficient balance.\")\n",
        "\n",
        "    def check_insufficient_balance(self, amount):\n",
        "        return self.balance >= amount\n",
        "\n",
        "    def display_balance(self):\n",
        "        print(f\"Current balance: {self.balance}\")\n",
        "\n",
        "    def display_details(self):\n",
        "        print(f\"Account Holder: {self.account_holder}\")\n",
        "        print(f\"Balance: {self.balance}\")\n",
        "account = BankAccount(\"John Doe\", 1000)\n",
        "account.display_details()\n",
        "account.deposit(500)\n",
        "account.withdraw(200)\n",
        "account.display_balance()"
      ],
      "metadata": {
        "colab": {
          "base_uri": "https://localhost:8080/"
        },
        "id": "xhlSi4DXdsdY",
        "outputId": "e2931f3c-1dc5-4e39-cdd7-4a380c95f15a"
      },
      "execution_count": 41,
      "outputs": [
        {
          "output_type": "stream",
          "name": "stdout",
          "text": [
            "Account Holder: John Doe\n",
            "Balance: 1000\n",
            "Deposited 500. New balance: 1500\n",
            "Withdrew 200. New balance: 1300\n",
            "Current balance: 1300\n"
          ]
        }
      ]
    },
    {
      "cell_type": "markdown",
      "source": [
        "TASK 4:\n",
        "Define a list of student dictionaries with keys name and score. Ask Copilot to write a while\n",
        "loop to print the names of students who scored more than 75."
      ],
      "metadata": {
        "id": "0S7BZXPwef7X"
      }
    },
    {
      "cell_type": "code",
      "source": [
        "students = [\n",
        "    {\"name\": \"Alice\", \"score\": 85},\n",
        "    {\"name\": \"Bob\", \"score\": 70},\n",
        "    {\"name\": \"Charlie\", \"score\": 92},\n",
        "    {\"name\": \"David\", \"score\": 78},\n",
        "    {\"name\": \"Eve\", \"score\": 65},\n",
        "]\n",
        "\n",
        "i = 0\n",
        "while i < len(students):\n",
        "  if students[i][\"score\"] > 75:\n",
        "    print(students[i][\"name\"])\n",
        "  i += 1"
      ],
      "metadata": {
        "colab": {
          "base_uri": "https://localhost:8080/"
        },
        "id": "E56YOLl4eKhk",
        "outputId": "52adcd3a-b3bb-4fbd-f8f4-8d518faf2ba8"
      },
      "execution_count": 42,
      "outputs": [
        {
          "output_type": "stream",
          "name": "stdout",
          "text": [
            "Alice\n",
            "Charlie\n",
            "David\n"
          ]
        }
      ]
    },
    {
      "cell_type": "markdown",
      "source": [
        "TASK 5:\n",
        "Begin writing a class ShoppingCart with an empty items list. Prompt Copilot to generate\n",
        "methods to add_item, remove_item, and use a loop to calculate the total bill using conditional."
      ],
      "metadata": {
        "id": "4vkkrMBjfd2D"
      }
    },
    {
      "cell_type": "code",
      "source": [
        "class ShoppingCart:\n",
        "    def __init__(self):\n",
        "        self.items = []\n",
        "\n",
        "    def add_item(self, item_name, item_price, item_quantity=1):\n",
        "        # Check if the item is already in the cart\n",
        "        for item in self.items:\n",
        "            if item[\"name\"] == item_name:\n",
        "                item[\"quantity\"] += item_quantity\n",
        "                print(f\"Added {item_quantity} more of {item_name} to the cart.\")\n",
        "                return\n",
        "        # If item is not in the cart, add it\n",
        "        self.items.append({\"name\": item_name, \"price\": item_price, \"quantity\": item_quantity})\n",
        "        print(f\"Added {item_quantity} of {item_name} to the cart.\")\n",
        "\n",
        "\n",
        "    def remove_item(self, item_name, item_quantity=1):\n",
        "        for item in self.items:\n",
        "            if item[\"name\"] == item_name:\n",
        "                if item[\"quantity\"] > item_quantity:\n",
        "                    item[\"quantity\"] -= item_quantity\n",
        "                    print(f\"Removed {item_quantity} of {item_name} from the cart.\")\n",
        "                    return\n",
        "                else:\n",
        "                    self.items.remove(item)\n",
        "                    print(f\"Removed all {item['quantity']} of {item_name} from the cart.\")\n",
        "                    return\n",
        "        print(f\"{item_name} not found in the cart.\")\n",
        "\n",
        "\n",
        "    def calculate_total(self):\n",
        "        total = 0\n",
        "        for item in self.items:\n",
        "            item_total = item[\"price\"] * item[\"quantity\"]\n",
        "            # Apply conditional discounts (example: 10% off for items over $50)\n",
        "            if item[\"price\"] > 50:\n",
        "                item_total *= 0.9\n",
        "                print(f\"Applied 10% discount to {item['name']}\")\n",
        "            total += item_total\n",
        "        return total\n",
        "\n",
        "    def display_cart(self):\n",
        "        if not self.items:\n",
        "            print(\"Your shopping cart is empty.\")\n",
        "            return\n",
        "        print(\"Items in your cart:\")\n",
        "        for item in self.items:\n",
        "            print(f\"- {item['name']}: ${item['price']} x {item['quantity']}\")\n",
        "        print(f\"Total: ${self.calculate_total():.2f}\")\n",
        "print(\"Thank you for shopping!\")"
      ],
      "metadata": {
        "colab": {
          "base_uri": "https://localhost:8080/"
        },
        "id": "6r-b1abYeopb",
        "outputId": "41f7edab-3d78-4033-dc3c-c2b792aa9bf2"
      },
      "execution_count": 49,
      "outputs": [
        {
          "output_type": "stream",
          "name": "stdout",
          "text": [
            "Thank you for shopping!\n"
          ]
        }
      ]
    },
    {
      "cell_type": "code",
      "source": [],
      "metadata": {
        "id": "rVywG7TQfaul"
      },
      "execution_count": null,
      "outputs": []
    }
  ]
}
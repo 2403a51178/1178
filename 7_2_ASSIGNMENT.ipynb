{
  "nbformat": 4,
  "nbformat_minor": 0,
  "metadata": {
    "colab": {
      "provenance": [],
      "authorship_tag": "ABX9TyMFjBLUvBHSbcfXv0gLyclR",
      "include_colab_link": true
    },
    "kernelspec": {
      "name": "python3",
      "display_name": "Python 3"
    },
    "language_info": {
      "name": "python"
    }
  },
  "cells": [
    {
      "cell_type": "markdown",
      "metadata": {
        "id": "view-in-github",
        "colab_type": "text"
      },
      "source": [
        "<a href=\"https://colab.research.google.com/github/2403a51178/1178/blob/main/7_2_ASSIGNMENT.ipynb\" target=\"_parent\"><img src=\"https://colab.research.google.com/assets/colab-badge.svg\" alt=\"Open In Colab\"/></a>"
      ]
    },
    {
      "cell_type": "code",
      "source": [
        "TASK 1: Syntax error in Conditionals"
      ],
      "metadata": {
        "id": "_KkvvHwF-SO_"
      },
      "execution_count": null,
      "outputs": []
    },
    {
      "cell_type": "markdown",
      "source": [],
      "metadata": {
        "id": "8Twts9xT_yyy"
      }
    },
    {
      "cell_type": "code",
      "execution_count": 2,
      "metadata": {
        "colab": {
          "base_uri": "https://localhost:8080/"
        },
        "id": "jXgnJGP05GsH",
        "outputId": "602646b5-308a-449f-d8d9-09b8c5a4121a"
      },
      "outputs": [
        {
          "output_type": "stream",
          "name": "stdout",
          "text": [
            "Equal\n"
          ]
        }
      ],
      "source": [
        "a = 10\n",
        "if a == 10:\n",
        "  print(\"Equal\")"
      ]
    },
    {
      "cell_type": "markdown",
      "source": [
        "Explanation: The if condition uses = instead of ==. In Python, == is used to compare vales.Replacing = with == fixes the syntax error"
      ],
      "metadata": {
        "id": "m361EwJ9B5MN"
      }
    },
    {
      "cell_type": "markdown",
      "source": [
        "TASK 2: Loops"
      ],
      "metadata": {
        "id": "pLNObQQw-WIc"
      }
    },
    {
      "cell_type": "code",
      "source": [
        "def sum_upto_n(n):\n",
        "  total = 0\n",
        "  for i in range(1,n):\n",
        "    total += i\n",
        "  return total\n",
        "print(\"total\")"
      ],
      "metadata": {
        "colab": {
          "base_uri": "https://localhost:8080/"
        },
        "id": "898GXNVT5vZX",
        "outputId": "c6ba113e-23a4-4245-bfe4-9cea469571bb"
      },
      "execution_count": 15,
      "outputs": [
        {
          "output_type": "stream",
          "name": "stdout",
          "text": [
            "total\n"
          ]
        }
      ]
    },
    {
      "cell_type": "markdown",
      "source": [
        "Explanation: The loop uses range(1,n), which excludes n. To include n in the sum,change it to  range(1,n+1)."
      ],
      "metadata": {
        "id": "BMXR0YnyCuCX"
      }
    },
    {
      "cell_type": "markdown",
      "source": [
        "TASK 3: Attribute Error\n"
      ],
      "metadata": {
        "id": "Ag2WYEe5-YoK"
      }
    },
    {
      "cell_type": "code",
      "source": [
        "class User:\n",
        "  def __init__(self, name):\n",
        "    self.name = name\n",
        "  def get_name(self):\n",
        "    return self.name\n",
        "\n",
        "u = User(\"Alice\")\n",
        "print(u.get_name())"
      ],
      "metadata": {
        "colab": {
          "base_uri": "https://localhost:8080/"
        },
        "id": "qYOCEswI7itK",
        "outputId": "64151631-54ee-4759-cfbb-1404f50ee2ff"
      },
      "execution_count": 17,
      "outputs": [
        {
          "output_type": "stream",
          "name": "stdout",
          "text": [
            "Alice\n"
          ]
        }
      ]
    },
    {
      "cell_type": "markdown",
      "source": [
        "Explanation: The code tries to call a method getName()which is not defined in the class.Adding the missing method fixes the error."
      ],
      "metadata": {
        "id": "ec82D4LfDKZY"
      }
    },
    {
      "cell_type": "markdown",
      "source": [
        "TASK 4: Incorrect Class Attribute Initialization\n"
      ],
      "metadata": {
        "id": "bR-bkOt5-dew"
      }
    },
    {
      "cell_type": "code",
      "source": [
        "class Car:\n",
        "  def start(self):\n",
        "    print(\"Car started\")\n",
        "c = Car()\n",
        "c.start()"
      ],
      "metadata": {
        "colab": {
          "base_uri": "https://localhost:8080/"
        },
        "id": "EMo63aKu8nuX",
        "outputId": "b7485ad1-e023-4c55-c2ee-771036cb4010"
      },
      "execution_count": 19,
      "outputs": [
        {
          "output_type": "stream",
          "name": "stdout",
          "text": [
            "Car started\n"
          ]
        }
      ]
    },
    {
      "cell_type": "markdown",
      "source": [
        "Explanation:The class method is missing self as a parameter. Adding self allows the method to be called using an object.\n"
      ],
      "metadata": {
        "id": "PqhfXaRGDlV4"
      }
    },
    {
      "cell_type": "markdown",
      "source": [
        "TASK 5:Conditional Logic Error in Grading System"
      ],
      "metadata": {
        "id": "djqT_fhU-jSm"
      }
    },
    {
      "cell_type": "code",
      "source": [
        "def grade_student(score):\n",
        "  if score >= 70:\n",
        "    return \"A\"\n",
        "  elif score >= 40:\n",
        "    return \"B\"\n",
        "  else:\n",
        "    return \"C\"\n",
        "print(grade_student(70))"
      ],
      "metadata": {
        "colab": {
          "base_uri": "https://localhost:8080/"
        },
        "id": "u6JI44wD89nu",
        "outputId": "2e0e4e97-101c-4721-da7b-51f5cd9c420f"
      },
      "execution_count": 27,
      "outputs": [
        {
          "output_type": "stream",
          "name": "stdout",
          "text": [
            "A\n"
          ]
        }
      ]
    },
    {
      "cell_type": "markdown",
      "source": [
        "Explanation:The grading logic is reversed low scores are getting high grades.Fix the conditions so higher scores get better grades."
      ],
      "metadata": {
        "id": "kFiVjxZiD-Ol"
      }
    }
  ]
}
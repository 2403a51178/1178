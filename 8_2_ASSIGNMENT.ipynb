{
  "nbformat": 4,
  "nbformat_minor": 0,
  "metadata": {
    "colab": {
      "provenance": [],
      "authorship_tag": "ABX9TyMtOuDlXKRvQwr/hHaSrYGC",
      "include_colab_link": true
    },
    "kernelspec": {
      "name": "python3",
      "display_name": "Python 3"
    },
    "language_info": {
      "name": "python"
    }
  },
  "cells": [
    {
      "cell_type": "markdown",
      "metadata": {
        "id": "view-in-github",
        "colab_type": "text"
      },
      "source": [
        "<a href=\"https://colab.research.google.com/github/2403a51178/1178/blob/main/8_2_ASSIGNMENT.ipynb\" target=\"_parent\"><img src=\"https://colab.research.google.com/assets/colab-badge.svg\" alt=\"Open In Colab\"/></a>"
      ]
    },
    {
      "cell_type": "code",
      "execution_count": null,
      "metadata": {
        "id": "tx9mt7kJAp4M"
      },
      "outputs": [],
      "source": []
    },
    {
      "cell_type": "markdown",
      "source": [
        "TASK 1:\n",
        "Use AI to generate test cases for a function is_prime(n) and then implement the\n",
        "function.\n",
        "Requirements:\n",
        "• Only integers > 1 can be prime.\n",
        "•Check edge cases: 0, 1, 2, negative numbers, and large primes."
      ],
      "metadata": {
        "id": "1S-gU93UBM-e"
      }
    },
    {
      "cell_type": "code",
      "metadata": {
        "id": "4b97effa"
      },
      "source": [
        "# Test cases for the is_prime function\n",
        "\n",
        "test_cases = [\n",
        "    (0, False),  # Edge case: 0\n",
        "    (1, False),  # Edge case: 1\n",
        "    (2, True),   # Edge case: 2 (smallest prime)\n",
        "    (3, True),\n",
        "    (4, False),\n",
        "    (5, True),\n",
        "    (10, False),\n",
        "    (17, True),\n",
        "    (25, False),\n",
        "    (97, True),  # Large prime\n",
        "    (100, False),\n",
        "    (-5, False), # Negative number\n",
        "]"
      ],
      "execution_count": 1,
      "outputs": []
    },
    {
      "cell_type": "code",
      "metadata": {
        "id": "0c0e3f49"
      },
      "source": [
        "# Implementation of the is_prime function\n",
        "\n",
        "def is_prime(n):\n",
        "    \"\"\"\n",
        "    Checks if a given integer is a prime number.\n",
        "\n",
        "    Args:\n",
        "        n: An integer.\n",
        "\n",
        "    Returns:\n",
        "        True if n is a prime number, False otherwise.\n",
        "    \"\"\"\n",
        "    if n <= 1:\n",
        "        return False\n",
        "    if n == 2:\n",
        "        return True\n",
        "    if n % 2 == 0:\n",
        "        return False\n",
        "    i = 3\n",
        "    while i * i <= n:\n",
        "        if n % i == 0:\n",
        "            return False\n",
        "        i += 2\n",
        "    return True"
      ],
      "execution_count": 2,
      "outputs": []
    },
    {
      "cell_type": "code",
      "metadata": {
        "colab": {
          "base_uri": "https://localhost:8080/"
        },
        "id": "85661fc9",
        "outputId": "389c0e42-c4e2-4441-b2d9-659765854f68"
      },
      "source": [
        "# Run the test cases\n",
        "\n",
        "for number, expected in test_cases:\n",
        "    result = is_prime(number)\n",
        "    assert result == expected, f\"Input: {number}, Expected: {expected}, Got: {result}\"\n",
        "    print(f\"Test case {number} passed.\")"
      ],
      "execution_count": 3,
      "outputs": [
        {
          "output_type": "stream",
          "name": "stdout",
          "text": [
            "Test case 0 passed.\n",
            "Test case 1 passed.\n",
            "Test case 2 passed.\n",
            "Test case 3 passed.\n",
            "Test case 4 passed.\n",
            "Test case 5 passed.\n",
            "Test case 10 passed.\n",
            "Test case 17 passed.\n",
            "Test case 25 passed.\n",
            "Test case 97 passed.\n",
            "Test case 100 passed.\n",
            "Test case -5 passed.\n"
          ]
        }
      ]
    },
    {
      "cell_type": "markdown",
      "source": [
        "TASK 2:Ask AI to generate test cases for celsius_to_fahrenheit(c) and fahrenheit_to_celsius(f).\n",
        "Requirements\n",
        "• Validate known pairs: 0°C = 32°F, 100°C = 212°F.\n",
        "• Include decimals and invalid inputs like strings or None"
      ],
      "metadata": {
        "id": "gFLa5G28CHZj"
      }
    },
    {
      "cell_type": "code",
      "metadata": {
        "id": "5a7d2dc5"
      },
      "source": [
        "# Implementation of the celsius_to_fahrenheit function\n",
        "\n",
        "def celsius_to_fahrenheit(celsius):\n",
        "    \"\"\"\n",
        "    Converts Celsius to Fahrenheit.\n",
        "\n",
        "    Args:\n",
        "        celsius: Temperature in Celsius (number).\n",
        "\n",
        "    Returns:\n",
        "        Temperature in Fahrenheit (float), or None for invalid input.\n",
        "    \"\"\"\n",
        "    if not isinstance(celsius, (int, float)):\n",
        "        return None\n",
        "    return (celsius * 9/5) + 32"
      ],
      "execution_count": 7,
      "outputs": []
    },
    {
      "cell_type": "code",
      "metadata": {
        "id": "cea29e92"
      },
      "source": [
        "# Implementation of the fahrenheit_to_celsius function\n",
        "\n",
        "def fahrenheit_to_celsius(fahrenheit):\n",
        "    \"\"\"\n",
        "    Converts Fahrenheit to Celsius.\n",
        "\n",
        "    Args:\n",
        "        fahrenheit: Temperature in Fahrenheit (number).\n",
        "\n",
        "    Returns:\n",
        "        Temperature in Celsius (float), or None for invalid input.\n",
        "    \"\"\"\n",
        "    if not isinstance(fahrenheit, (int, float)):\n",
        "        return None\n",
        "    return (fahrenheit - 32) * 5/9"
      ],
      "execution_count": 8,
      "outputs": []
    },
    {
      "cell_type": "code",
      "metadata": {
        "colab": {
          "base_uri": "https://localhost:8080/"
        },
        "id": "4e84d076",
        "outputId": "c134ad04-e91c-4498-dd0b-5e6f25e11951"
      },
      "source": [
        "# Run the test cases for celsius_to_fahrenheit\n",
        "\n",
        "print(\"Testing celsius_to_fahrenheit...\")\n",
        "for celsius, expected in celsius_to_fahrenheit_test_cases:\n",
        "    result = celsius_to_fahrenheit(celsius)\n",
        "    assert result == expected, f\"Input: {celsius}, Expected: {expected}, Got: {result}\"\n",
        "    print(f\"Test case {celsius}°C passed.\")\n",
        "\n",
        "print(\"\\nTesting fahrenheit_to_celsius...\")\n",
        "for fahrenheit, expected in fahrenheit_to_celsius_test_cases:\n",
        "    result = fahrenheit_to_celsius(fahrenheit)\n",
        "    # Using a tolerance for floating point comparison\n",
        "    if expected is None:\n",
        "        assert result is None, f\"Input: {fahrenheit}, Expected: {expected}, Got: {result}\"\n",
        "    else:\n",
        "        assert abs(result - expected) < 1e-9, f\"Input: {fahrenheit}, Expected: {expected}, Got: {result}\"\n",
        "    print(f\"Test case {fahrenheit}°F passed.\")"
      ],
      "execution_count": 9,
      "outputs": [
        {
          "output_type": "stream",
          "name": "stdout",
          "text": [
            "Testing celsius_to_fahrenheit...\n",
            "Test case 0°C passed.\n",
            "Test case 100°C passed.\n",
            "Test case 25°C passed.\n",
            "Test case -10°C passed.\n",
            "Test case 15.5°C passed.\n",
            "Test case abc°C passed.\n",
            "Test case None°C passed.\n",
            "\n",
            "Testing fahrenheit_to_celsius...\n",
            "Test case 32°F passed.\n",
            "Test case 212°F passed.\n",
            "Test case 77°F passed.\n",
            "Test case 14°F passed.\n",
            "Test case 59.9°F passed.\n",
            "Test case xyz°F passed.\n",
            "Test case None°F passed.\n"
          ]
        }
      ]
    },
    {
      "cell_type": "markdown",
      "source": [
        "TASK 3:Use AI to write test cases for a function count_words(text) that returns the number of\n",
        "words in a sentence.\n",
        "Requirement\n",
        "Handle normal text, multiple spaces, punctuation, and empty strings."
      ],
      "metadata": {
        "id": "ojzmqgEHC_K5"
      }
    },
    {
      "cell_type": "code",
      "source": [
        "# Implementation of the count_words function\n",
        "import re\n",
        "\n",
        "def count_words(text):\n",
        "    \"\"\"\n",
        "    Counts the number of words in a sentence.\n",
        "\n",
        "    Args:\n",
        "        text: A string representing the sentence.\n",
        "\n",
        "    Returns:\n",
        "        The number of words in the sentence.\n",
        "    \"\"\"\n",
        "    if not isinstance(text, str):\n",
        "        return 0\n",
        "    words = re.findall(r'\\b\\w+\\b', text)\n",
        "    return len(words)"
      ],
      "metadata": {
        "id": "ntfL3ez3CciI"
      },
      "execution_count": 11,
      "outputs": []
    },
    {
      "cell_type": "code",
      "metadata": {
        "colab": {
          "base_uri": "https://localhost:8080/"
        },
        "id": "aa210615",
        "outputId": "db17487c-fab2-4642-ea2f-68cdbbf70980"
      },
      "source": [
        "# Run the test cases for count_words\n",
        "\n",
        "print(\"Testing count_words...\")\n",
        "for text, expected in count_words_test_cases:\n",
        "    result = count_words(text)\n",
        "    assert result == expected, f\"Input: '{text}', Expected: {expected}, Got: {result}\"\n",
        "    print(f\"Test case '{text}' passed.\")"
      ],
      "execution_count": 12,
      "outputs": [
        {
          "output_type": "stream",
          "name": "stdout",
          "text": [
            "Testing count_words...\n",
            "Test case 'Hello world' passed.\n",
            "Test case '  Leading and trailing spaces ' passed.\n",
            "Test case 'Multiple   spaces   here' passed.\n",
            "Test case 'Punctuation!' passed.\n",
            "Test case 'Words, with, commas.' passed.\n",
            "Test case '  ' passed.\n",
            "Test case '' passed.\n",
            "Test case 'Word' passed.\n",
            "Test case 'One. Two, Three!' passed.\n"
          ]
        }
      ]
    },
    {
      "cell_type": "markdown",
      "source": [
        "TASK 4:Generate test cases for a BankAccount class with:\n",
        "Methods:\n",
        "deposit(amount)\n",
        "withdraw(amount)\n",
        "check_balance()\n",
        "Requirements:\n",
        "• Negative deposits/withdrawals should raise an error.\n",
        "• Cannot withdraw more than balance.\n",
        "\n"
      ],
      "metadata": {
        "id": "WjjyDWV4KCOx"
      }
    },
    {
      "cell_type": "code",
      "source": [
        "import pytest\n",
        "# from bank_account import BankAccount  # Removed this line\n",
        "\n",
        "@pytest.fixture\n",
        "def account():\n",
        "    \"\"\"\n",
        "    A pytest fixture that creates a new BankAccount object for each test.\n",
        "    \"\"\"\n",
        "    return BankAccount()\n",
        "\n",
        "def test_initial_balance_is_zero(account):\n",
        "    \"\"\"\n",
        "    Tests that a new account starts with a balance of zero.\n",
        "    \"\"\"\n",
        "    assert account.get_balance() == 0\n",
        "\n",
        "def test_deposit_valid_amount(account):\n",
        "    \"\"\"\n",
        "    Tests that a valid deposit increases the balance.\n",
        "    \"\"\"\n",
        "    account.deposit(100)\n",
        "    assert account.get_balance() == 100\n",
        "\n",
        "def test_deposit_multiple_times(account):\n",
        "    \"\"\"\n",
        "    Tests that multiple deposits add up correctly.\n",
        "    \"\"\"\n",
        "    account.deposit(50)\n",
        "    account.deposit(25)\n",
        "    assert account.get_balance() == 75\n",
        "\n",
        "def test_deposit_negative_amount_raises_error(account):\n",
        "    \"\"\"\n",
        "    Tests that a negative deposit raises a ValueError.\n",
        "    \"\"\"\n",
        "    with pytest.raises(ValueError, match=\"Deposit amount must be positive.\"):\n",
        "        account.deposit(-50)\n",
        "    assert account.get_balance() == 0\n",
        "\n",
        "def test_withdraw_valid_amount(account):\n",
        "    \"\"\"\n",
        "    Tests that a valid withdrawal decreases the balance.\n",
        "    \"\"\"\n",
        "    account.deposit(100)\n",
        "    account.withdraw(40)\n",
        "    assert account.get_balance() == 60\n",
        "\n",
        "def test_withdraw_exact_balance(account):\n",
        "    \"\"\"\n",
        "    Tests that withdrawing the exact balance results in zero.\n",
        "    \"\"\"\n",
        "    account.deposit(75)\n",
        "    account.withdraw(75)\n",
        "    assert account.get_balance() == 0\n",
        "\n",
        "def test_withdraw_more_than_balance_raises_error(account):\n",
        "    \"\"\"\n",
        "    Tests that a withdrawal exceeding the balance raises a ValueError.\n",
        "    \"\"\"\n",
        "    account.deposit(50)\n",
        "    with pytest.raises(ValueError, match=\"Cannot withdraw more than the current balance.\"):\n",
        "        account.withdraw(100)\n",
        "    assert account.get_balance() == 50\n",
        "\n",
        "def test_withdraw_negative_amount_raises_error(account):\n",
        "    \"\"\"\n",
        "    Tests that a negative withdrawal raises a ValueError.\n",
        "    \"\"\"\n",
        "    account.deposit(50)\n",
        "    with pytest.raises(ValueError, match=\"Withdrawal amount must be positive.\"):\n",
        "        account.withdraw(-20)\n",
        "    assert account.get_balance() == 50\n",
        "\n",
        "def test_combined_operations(account):\n",
        "    \"\"\"\n",
        "    Tests a sequence of deposits and withdrawals.\n",
        "    \"\"\"\n",
        "    account.deposit(200)\n",
        "    account.withdraw(50)\n",
        "    account.deposit(100)\n",
        "    account.withdraw(120)\n",
        "    assert account.get_balance() == 130\n",
        "print(\"Mutiple transactions:\")\n",
        "print(account)"
      ],
      "metadata": {
        "colab": {
          "base_uri": "https://localhost:8080/"
        },
        "id": "kbPFpJ5DIaYs",
        "outputId": "d8f1d385-d43b-445b-e798-6852a35f4df4"
      },
      "execution_count": 31,
      "outputs": [
        {
          "output_type": "stream",
          "name": "stdout",
          "text": [
            "Mutiple transactions:\n",
            "<pytest_fixture(<function account at 0x7d4e11253740>)>\n"
          ]
        }
      ]
    },
    {
      "cell_type": "markdown",
      "source": [
        "TASK 5:\n",
        "Generate test cases for is_number_palindrome(num), which checks if an integer reads\n",
        "the same backward.\n",
        "Examples:\n",
        "121 → True\n",
        "123 → False\n",
        "0, negative numbers → handled gracefully"
      ],
      "metadata": {
        "id": "rbMZnPdILnFp"
      }
    },
    {
      "cell_type": "code",
      "source": [
        "import pytest\n",
        "# from number_palindrome import is_number_palindrome # Removed this line\n",
        "\n",
        "def test_positive_palindrome():\n",
        "    \"\"\"Tests a standard positive palindrome.\"\"\"\n",
        "    assert is_number_palindrome(121) is True\n",
        "\n",
        "def test_positive_non_palindrome():\n",
        "    \"\"\"Tests a standard positive non-palindrome.\"\"\"\n",
        "    assert is_number_palindrome(123) is False\n",
        "\n",
        "def test_single_digit_number():\n",
        "    \"\"\"Tests a single-digit number, which is a palindrome.\"\"\"\n",
        "    assert is_number_palindrome(7) is True\n",
        "\n",
        "def test_zero():\n",
        "    \"\"\"Tests that zero is considered a palindrome.\"\"\"\n",
        "    assert is_number_palindrome(0) is True\n",
        "\n",
        "def test_negative_number():\n",
        "    \"\"\"Tests that a negative number is not a palindrome.\"\"\"\n",
        "    assert is_number_palindrome(-121) is False\n",
        "\n",
        "def test_long_palindrome():\n",
        "    \"\"\"Tests a multi-digit palindrome.\"\"\"\n",
        "    assert is_number_palindrome(123454321) is True\n",
        "\n",
        "def test_long_non_palindrome():\n",
        "    \"\"\"Tests a long non-palindrome.\"\"\"\n",
        "    assert is_number_palindrome(123456789) is False\n",
        "\n",
        "def test_number_ending_in_zero():\n",
        "    \"\"\"Tests a number ending in zero.\"\"\"\n",
        "    assert is_number_palindrome(120) is False\n",
        "def test_negative_palindrome():\n",
        "    \"\"\"Tests a negative palindrome.\"\"\"\n",
        "    assert is_number_palindrome(-121) is False\n",
        "\n",
        "print(\"All tests passed!\")\n",
        ""
      ],
      "metadata": {
        "colab": {
          "base_uri": "https://localhost:8080/"
        },
        "id": "5U6EyvfTLCyi",
        "outputId": "b27a4e6b-f565-4807-8b39-10a53684818a"
      },
      "execution_count": 35,
      "outputs": [
        {
          "output_type": "stream",
          "name": "stdout",
          "text": [
            "All tests passed!\n"
          ]
        }
      ]
    }
  ]
}
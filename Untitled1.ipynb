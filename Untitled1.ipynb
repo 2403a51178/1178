{
  "nbformat": 4,
  "nbformat_minor": 0,
  "metadata": {
    "colab": {
      "provenance": [],
      "authorship_tag": "ABX9TyOE7g4wZRBBewmExkxSZh7n",
      "include_colab_link": true
    },
    "kernelspec": {
      "name": "python3",
      "display_name": "Python 3"
    },
    "language_info": {
      "name": "python"
    }
  },
  "cells": [
    {
      "cell_type": "markdown",
      "metadata": {
        "id": "view-in-github",
        "colab_type": "text"
      },
      "source": [
        "<a href=\"https://colab.research.google.com/github/2403a51178/1178/blob/main/Untitled1.ipynb\" target=\"_parent\"><img src=\"https://colab.research.google.com/assets/colab-badge.svg\" alt=\"Open In Colab\"/></a>"
      ]
    },
    {
      "cell_type": "markdown",
      "source": [
        "TASk 1:\n",
        " Ask to write a function to calculate compound interest, starting with only the\n",
        "function name. Then add a docstring, then input-output example.\n",
        "Prompt:\n",
        "write a function to calculate compound interest."
      ],
      "metadata": {
        "id": "iQAuTXbaVTE4"
      }
    },
    {
      "cell_type": "code",
      "source": [
        "def compound_interest(principal, rate, time, n):\n",
        "  \"\"\"\n",
        "  Calculates compound interest.\n",
        "\n",
        "  Args:\n",
        "    principal: The initial principal amount.\n",
        "    rate: The annual interest rate (as a decimal).\n",
        "    time: The number of years the money is invested or borrowed for.\n",
        "    n: The number of times that interest is compounded per year.\n",
        "\n",
        "  Returns:\n",
        "    The compound interest.\n",
        "  \"\"\"\n",
        "  amount = principal * (1 + rate / n)**(n * time)\n",
        "  interest = amount - principal\n",
        "  return interest"
      ],
      "metadata": {
        "id": "4kqvOzUeSIa8"
      },
      "execution_count": 15,
      "outputs": []
    },
    {
      "cell_type": "code",
      "metadata": {
        "id": "1b58d3cc"
      },
      "source": [
        "# Example usage:\n",
        "principal = 1000\n",
        "rate = 0.05  # 5% annual interest rate\n",
        "time = 10    # 10 years\n",
        "n = 4      # Compounded quarterly\n",
        "\n",
        "calculated_interest = compound_interest(principal, rate, time, n)\n",
        "print(f\"The compound interest is: {calculated_interest:.2f}\")"
      ],
      "execution_count": null,
      "outputs": []
    },
    {
      "cell_type": "markdown",
      "source": [
        "TASK 2:\n",
        "Do math stuff, then refine it to: # Write a function to calculate average, median, and\n",
        "mode of a list of numbers.\n",
        "prompt:\n",
        "Write a function to calculate average, median, and mode of list of numbers."
      ],
      "metadata": {
        "id": "KXoup-IsVl8y"
      }
    },
    {
      "cell_type": "code",
      "source": [
        "import statistics\n",
        "\n",
        "def calculate_stats(numbers):\n",
        "  \"\"\"\n",
        "  Calculates the average, median, and mode of a list of numbers.\n",
        "\n",
        "  Args:\n",
        "    numbers: A list of numbers.\n",
        "\n",
        "  Returns:\n",
        "    A dictionary containing the average, median, and mode.\n",
        "  \"\"\"\n",
        "  average = sum(numbers) / len(numbers)\n",
        "  median = statistics.median(numbers)\n",
        "  try:\n",
        "    mode = statistics.mode(numbers)\n",
        "  except statistics.StatisticsError:\n",
        "    mode = \"No unique mode\" # Handle cases with no unique mode\n",
        "\n",
        "  return {\n",
        "      \"average\": average,\n",
        "      \"median\": median,\n",
        "      \"mode\": mode\n",
        "  }"
      ],
      "metadata": {
        "id": "Kqtm6m_QSxg6"
      },
      "execution_count": 16,
      "outputs": []
    },
    {
      "cell_type": "code",
      "metadata": {
        "id": "f7c6f8c0"
      },
      "source": [
        "# Sample data\n",
        "sample_numbers = [1, 2, 3, 4, 5, 5, 6, 7, 8, 9, 10]\n",
        "\n",
        "# Calculate statistics\n",
        "statistics_result = calculate_stats(sample_numbers)\n",
        "\n",
        "# Display the results\n",
        "print(\"Sample Numbers:\", sample_numbers)\n",
        "print(\"Calculated Statistics:\", statistics_result)"
      ],
      "execution_count": null,
      "outputs": []
    },
    {
      "cell_type": "markdown",
      "source": [
        "TASK 3\n",
        "Provide multiple examples of input-output to the AI for convert_to_binary(num)\n",
        "function. Observe how AI uses few-shot prompting to generalize.\n",
        "Prompt:\n",
        "write a python code to convert_to_binary(num)\n",
        "function."
      ],
      "metadata": {
        "id": "kcRmKQO8V0RX"
      }
    },
    {
      "cell_type": "code",
      "source": [
        "def convert_to_binary(num):\n",
        "  \"\"\"\n",
        "  Converts a decimal number to its binary representation.\n",
        "\n",
        "  Args:\n",
        "    num: The decimal number to convert.\n",
        "\n",
        "  Returns:\n",
        "    A string representing the binary form of the number.\n",
        "  \"\"\"\n",
        "  if num == 0:\n",
        "    return '0'\n",
        "  binary = ''\n",
        "  while num > 0:\n",
        "    binary = str(num % 2) + binary\n",
        "    num = num // 2\n",
        "  return binary"
      ],
      "metadata": {
        "id": "9qSVkAmeUEpV"
      },
      "execution_count": 17,
      "outputs": []
    },
    {
      "cell_type": "code",
      "metadata": {
        "id": "a1d21802"
      },
      "source": [
        "# Example usage\n",
        "decimal_number = 25\n",
        "binary_representation = convert_to_binary(decimal_number)\n",
        "print(f\"The binary representation of {decimal_number} is: {binary_representation}\")"
      ],
      "execution_count": null,
      "outputs": []
    },
    {
      "cell_type": "markdown",
      "source": [
        "TASK 4\n",
        "Create an user interface for an hotel to generate bill based on customer requirements.\n",
        "Prompt:write a python code for an hotel to generate bill based on customer requirements."
      ],
      "metadata": {
        "id": "2YZjWQNvWKx8"
      }
    },
    {
      "cell_type": "code",
      "metadata": {
        "colab": {
          "base_uri": "https://localhost:8080/"
        },
        "id": "963b7363",
        "outputId": "e37f2718-8313-4097-99b0-df0aa250b508"
      },
      "source": [
        "# 1. Determine the key sections of the user interface\n",
        "sections = {\n",
        "    \"Customer Information\": [\"Customer Name\", \"Customer ID (Optional)\", \"Check-in Date\", \"Check-out Date\"],\n",
        "    \"Room Details\": [\"Room Number\", \"Room Type (Dropdown: Single, Double, Suite)\", \"Nightly Rate\", \"Number of Nights\"],\n",
        "    \"Service Charges\": [\"Service Name (e.g., Restaurant, Laundry)\", \"Service Cost\", \"Add Service Button\", \"List of Added Services\"],\n",
        "    \"Final Bill Summary\": [\"Subtotal (Room)\", \"Subtotal (Services)\", \"Tax Rate\", \"Total Amount\", \"Generate Bill Button\", \"Print Bill Button\"]\n",
        "}\n",
        "\n",
        "# 2. For each section, list the specific input fields, labels, and display areas\n",
        "ui_components = {}\n",
        "for section, items in sections.items():\n",
        "    ui_components[section] = []\n",
        "    for item in items:\n",
        "        if \"Button\" in item:\n",
        "            ui_components[section].append(f\"{item}: Button\")\n",
        "        elif \"Dropdown\" in item:\n",
        "             ui_components[section].append(f\"{item}: Dropdown\")\n",
        "        elif \"Subtotal\" in item or \"Total Amount\" in item:\n",
        "             ui_components[section].append(f\"{item}: Display Area\")\n",
        "        else:\n",
        "            ui_components[section].append(f\"{item}: Text Box/Input Field\")\n",
        "\n",
        "# 3. Sketch a basic layout of how these sections and components will be arranged\n",
        "layout = \"\"\"\n",
        "+-----------------------------------------------------+\n",
        "| HOTEL BILLING SYSTEM                                |\n",
        "+-----------------------------------------------------+\n",
        "| Customer Information:                               |\n",
        "|   Customer Name: [__________] Customer ID: [______] |\n",
        "|   Check-in Date: [________] Check-out Date: [_______]|\n",
        "+-----------------------------------------------------+\n",
        "| Room Details:                                       |\n",
        "|   Room Number: [______] Room Type: [Dropdown]       |\n",
        "|   Nightly Rate: [______] Number of Nights: [______]|\n",
        "+-----------------------------------------------------+\n",
        "| Service Charges:                                    |\n",
        "|   Service Name: [__________] Service Cost: [______]|\n",
        "|   [Add Service Button]                              |\n",
        "|   List of Added Services:                           |\n",
        "|   - [Service 1: Cost]                               |\n",
        "|   - [Service 2: Cost]                               |\n",
        "|   ...                                               |\n",
        "+-----------------------------------------------------+\n",
        "| Final Bill Summary:                                 |\n",
        "|   Subtotal (Room): [______]                         |\n",
        "|   Subtotal (Services): [______]                     |\n",
        "|   Tax Rate: [______]                                |\n",
        "|   Total Amount: [______]                            |\n",
        "|   [Generate Bill Button] [Print Bill Button]        |\n",
        "+-----------------------------------------------------+\n",
        "\"\"\"\n",
        "\n",
        "print(\"UI Components Outline:\")\n",
        "for section, components in ui_components.items():\n",
        "    print(f\"\\n{section}:\")\n",
        "    for component in components:\n",
        "        print(f\"- {component}\")\n",
        "\n",
        "print(\"\\nBasic UI Layout Sketch:\")\n",
        "print(layout)"
      ],
      "execution_count": 18,
      "outputs": [
        {
          "output_type": "stream",
          "name": "stdout",
          "text": [
            "UI Components Outline:\n",
            "\n",
            "Customer Information:\n",
            "- Customer Name: Text Box/Input Field\n",
            "- Customer ID (Optional): Text Box/Input Field\n",
            "- Check-in Date: Text Box/Input Field\n",
            "- Check-out Date: Text Box/Input Field\n",
            "\n",
            "Room Details:\n",
            "- Room Number: Text Box/Input Field\n",
            "- Room Type (Dropdown: Single, Double, Suite): Dropdown\n",
            "- Nightly Rate: Text Box/Input Field\n",
            "- Number of Nights: Text Box/Input Field\n",
            "\n",
            "Service Charges:\n",
            "- Service Name (e.g., Restaurant, Laundry): Text Box/Input Field\n",
            "- Service Cost: Text Box/Input Field\n",
            "- Add Service Button: Button\n",
            "- List of Added Services: Text Box/Input Field\n",
            "\n",
            "Final Bill Summary:\n",
            "- Subtotal (Room): Display Area\n",
            "- Subtotal (Services): Display Area\n",
            "- Tax Rate: Text Box/Input Field\n",
            "- Total Amount: Display Area\n",
            "- Generate Bill Button: Button\n",
            "- Print Bill Button: Button\n",
            "\n",
            "Basic UI Layout Sketch:\n",
            "\n",
            "+-----------------------------------------------------+\n",
            "| HOTEL BILLING SYSTEM                                |\n",
            "+-----------------------------------------------------+\n",
            "| Customer Information:                               |\n",
            "|   Customer Name: [__________] Customer ID: [______] |\n",
            "|   Check-in Date: [________] Check-out Date: [_______]|\n",
            "+-----------------------------------------------------+\n",
            "| Room Details:                                       |\n",
            "|   Room Number: [______] Room Type: [Dropdown]       |\n",
            "|   Nightly Rate: [______] Number of Nights: [______]|\n",
            "+-----------------------------------------------------+\n",
            "| Service Charges:                                    |\n",
            "|   Service Name: [__________] Service Cost: [______]|\n",
            "|   [Add Service Button]                              |\n",
            "|   List of Added Services:                           |\n",
            "|   - [Service 1: Cost]                               |\n",
            "|   - [Service 2: Cost]                               |\n",
            "|   ...                                               |\n",
            "+-----------------------------------------------------+\n",
            "| Final Bill Summary:                                 |\n",
            "|   Subtotal (Room): [______]                         |\n",
            "|   Subtotal (Services): [______]                     |\n",
            "|   Tax Rate: [______]                                |\n",
            "|   Total Amount: [______]                            |\n",
            "|   [Generate Bill Button] [Print Bill Button]        |\n",
            "+-----------------------------------------------------+\n",
            "\n"
          ]
        }
      ]
    },
    {
      "cell_type": "markdown",
      "metadata": {
        "id": "095b23b1"
      },
      "source": [
        "## Define requirements\n",
        "\n",
        "### Subtask:\n",
        "Clarify the specific features and functionalities needed for the hotel billing system's user interface.\n"
      ]
    },
    {
      "cell_type": "markdown",
      "metadata": {
        "id": "d75d2cdd"
      },
      "source": [
        "## Design the interface\n",
        "\n",
        "### Subtask:\n",
        "Outline the layout and components of the user interface.\n"
      ]
    },
    {
      "cell_type": "markdown",
      "metadata": {
        "id": "43c1e1d0"
      },
      "source": [
        "**Reasoning**:\n",
        "Outline the layout and components of the user interface as described in the instructions.\n",
        "\n"
      ]
    },
    {
      "cell_type": "markdown",
      "metadata": {
        "id": "121ecdda"
      },
      "source": [
        "## Implement the basic interface\n",
        "\n",
        "### Subtask:\n",
        "Write the code to create the basic structure of the user interface using a suitable library (e.g., Tkinter, Streamlit).\n"
      ]
    },
    {
      "cell_type": "markdown",
      "metadata": {
        "id": "ca8ab602"
      },
      "source": [
        "**Reasoning**:\n",
        "Write the code to create the basic structure of the user interface using Tkinter as it's a standard library and sufficient for this task. This involves creating the main window, setting its title, creating frames for each section of the UI, adding labels to these frames, and starting the Tkinter main loop.\n",
        "\n"
      ]
    },
    {
      "cell_type": "markdown",
      "source": [
        "Analyzing Prompt Specificity: Improving Temperature Conversion Function with\n",
        "Clear Instructions."
      ],
      "metadata": {
        "id": "ZMb3xZyLWSTw"
      }
    },
    {
      "cell_type": "markdown",
      "source": [
        "TASK 5 :\n",
        "Analyzing Prompt Specificity: Improving Temperature Conversion Function with\n",
        "Clear Instructions.\n",
        "PROMPT:\n",
        "write a python code for Improving Temperature Conversion Function with\n",
        "Clear Instructions."
      ],
      "metadata": {
        "id": "aVGWbu7KZMgu"
      }
    },
    {
      "cell_type": "code",
      "source": [
        "def convert_celsius_to_fahrenheit(celsius):\n",
        "  \"\"\"\n",
        "  Converts a temperature in Celsius to Fahrenheit.\n",
        "\n",
        "  Args:\n",
        "    celsius: The temperature in degrees Celsius (a float or integer).\n",
        "\n",
        "  Returns:\n",
        "    The temperature in degrees Fahrenheit (a float).\n",
        "    Returns None if the input is not a valid number.\n",
        "  \"\"\"\n",
        "  # Check if the input is a valid number\n",
        "  if not isinstance(celsius, (int, float)):\n",
        "    print(\"Error: Input must be a number.\")\n",
        "    return None\n",
        "\n",
        "  # Apply the conversion formula: (Celsius * 9/5) + 32\n",
        "  fahrenheit = (celsius * 9/5) + 32\n",
        "\n",
        "  return fahrenheit\n",
        "\n",
        "# Example of how to use the function with a specific input\n",
        "# celsius_temp = 25\n",
        "# fahrenheit_temp = convert_celsius_to_fahrenheit(celsius_temp)\n",
        "# if fahrenheit_temp is not None:\n",
        "#   print(f\"{celsius_temp} degrees Celsius is equal to {fahrenheit_temp:.2f} degrees Fahrenheit.\")\n",
        "\n",
        "# Example with an invalid input to show error handling\n",
        "# invalid_input = \"abc\"\n",
        "# convert_celsius_to_fahrenheit(invalid_input)"
      ],
      "metadata": {
        "id": "w2Ky2NwgU7nY"
      },
      "execution_count": 19,
      "outputs": []
    },
    {
      "cell_type": "code",
      "metadata": {
        "id": "6be732a5"
      },
      "source": [
        "# Example of how to use the function with a specific input\n",
        "celsius_temp = 25\n",
        "fahrenheit_temp = convert_celsius_to_fahrenheit(celsius_temp)\n",
        "if fahrenheit_temp is not None:\n",
        "  print(f\"{celsius_temp} degrees Celsius is equal to {fahrenheit_temp:.2f} degrees Fahrenheit.\")\n",
        "\n",
        "# Example with an invalid input to show error handling\n",
        "invalid_input = \"abc\"\n",
        "convert_celsius_to_fahrenheit(invalid_input)"
      ],
      "execution_count": null,
      "outputs": []
    }
  ]
}
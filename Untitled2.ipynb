{
  "nbformat": 4,
  "nbformat_minor": 0,
  "metadata": {
    "colab": {
      "provenance": [],
      "authorship_tag": "ABX9TyMt5AuzHEbvYQ7loP/dv/8e",
      "include_colab_link": true
    },
    "kernelspec": {
      "name": "python3",
      "display_name": "Python 3"
    },
    "language_info": {
      "name": "python"
    }
  },
  "cells": [
    {
      "cell_type": "markdown",
      "metadata": {
        "id": "view-in-github",
        "colab_type": "text"
      },
      "source": [
        "<a href=\"https://colab.research.google.com/github/2403a51178/1178/blob/main/Untitled2.ipynb\" target=\"_parent\"><img src=\"https://colab.research.google.com/assets/colab-badge.svg\" alt=\"Open In Colab\"/></a>"
      ]
    },
    {
      "cell_type": "markdown",
      "source": [
        "Task1\n",
        "# Write Python code that sorts a list in two ways:\n",
        "# 1. Using bubble sort algorithm (manual implementation)\n",
        "# 2. Using Python's built-in sort() method\n",
        "# Print both sorted lists for comparison.\n",
        "\n"
      ],
      "metadata": {
        "id": "C8oml-3OOm9B"
      }
    },
    {
      "cell_type": "code",
      "execution_count": 1,
      "metadata": {
        "colab": {
          "base_uri": "https://localhost:8080/"
        },
        "id": "XU2DT4O8Mmo6",
        "outputId": "d4734f20-c741-4d9c-9395-800cce8d5239"
      },
      "outputs": [
        {
          "output_type": "stream",
          "name": "stdout",
          "text": [
            "Bubble sorted list: [11, 12, 22, 25, 34, 64, 90]\n",
            "Built-in sorted list: [11, 12, 22, 25, 34, 64, 90]\n"
          ]
        }
      ],
      "source": [
        "def bubble_sort(arr):\n",
        "    n = len(arr)\n",
        "    for i in range(n):\n",
        "        for j in range(0, n - i - 1):\n",
        "            if arr[j] > arr[j + 1]:\n",
        "                arr[j], arr[j + 1] = arr[j + 1], arr[j]\n",
        "    return arr\n",
        "\n",
        "# Original list\n",
        "my_list = [64, 34, 25, 12, 22, 11, 90]\n",
        "\n",
        "# 1. Sort using bubble sort\n",
        "bubble_sorted_list = bubble_sort(my_list.copy()) # Use a copy to keep the original list intact\n",
        "print(\"Bubble sorted list:\", bubble_sorted_list)\n",
        "\n",
        "# 2. Sort using Python's built-in sort() method\n",
        "my_list.sort()\n",
        "print(\"Built-in sorted list:\", my_list)"
      ]
    },
    {
      "cell_type": "markdown",
      "source": [
        "Task2\n",
        "# Write a Python function that takes a string and returns:\n",
        "#**bold text** Number of vowels\n",
        "# Number of consonants\n",
        "# Number of digits\n",
        "# Test the function with an example string and print the results\n"
      ],
      "metadata": {
        "id": "GuV0e0RtPC-I"
      }
    },
    {
      "cell_type": "code",
      "source": [
        "def count_chars(input_string):\n",
        "    vowels = \"aeiouAEIOU\"\n",
        "    consonants = \"bcdfghjklmnpqrstvwxyzBCDFGHJKLMNPQRSTVWXYZ\"\n",
        "    digits = \"0123456789\"\n",
        "\n",
        "    num_vowels = 0\n",
        "    num_consonants = 0\n",
        "    num_digits = 0\n",
        "\n",
        "    for char in input_string:\n",
        "        if char in vowels:\n",
        "            num_vowels += 1\n",
        "        elif char in consonants:\n",
        "            num_consonants += 1\n",
        "        elif char in digits:\n",
        "            num_digits += 1\n",
        "\n",
        "    return num_vowels, num_consonants, num_digits\n",
        "\n",
        "# Test the function\n",
        "test_string = \"Hello World 123!\"\n",
        "vowel_count, consonant_count, digit_count = count_chars(test_string)\n",
        "\n",
        "print(f\"String: '{test_string}'\")\n",
        "print(f\"Number of vowels: {vowel_count}\")\n",
        "print(f\"Number of consonants: {consonant_count}\")\n",
        "print(f\"Number of digits: {digit_count}\")"
      ],
      "metadata": {
        "colab": {
          "base_uri": "https://localhost:8080/"
        },
        "id": "sGMFtJeJM6qu",
        "outputId": "d2337b8a-cb5f-40e4-eb03-2c728942cbe1"
      },
      "execution_count": 2,
      "outputs": [
        {
          "output_type": "stream",
          "name": "stdout",
          "text": [
            "String: 'Hello World 123!'\n",
            "Number of vowels: 3\n",
            "Number of consonants: 7\n",
            "Number of digits: 3\n"
          ]
        }
      ]
    },
    {
      "cell_type": "markdown",
      "source": [],
      "metadata": {
        "id": "OWKYglvbPSP7"
      }
    },
    {
      "cell_type": "markdown",
      "source": [
        "TASK 3\n",
        "# Write Python code to:\n",
        "# 1. Create a text file\n",
        "# 2. Write some sample text into it\n",
        "# 3. Read the text from the file and display it\n"
      ],
      "metadata": {
        "id": "dtXAztxSP9W2"
      }
    },
    {
      "cell_type": "code",
      "source": [
        "# 1. Create a text file and write to it\n",
        "file_name = \"sample_text_file.txt\"\n",
        "sample_text = \"This is some sample text that will be written to the file.\"\n",
        "\n",
        "with open(file_name, \"w\") as file:\n",
        "    file.write(sample_text)\n",
        "\n",
        "print(f\"Text successfully written to '{file_name}'\")\n",
        "\n",
        "# 2. Read the text from the file and display it\n",
        "print(f\"\\nReading text from '{file_name}':\")\n",
        "with open(file_name, \"r\") as file:\n",
        "    read_text = file.read()\n",
        "\n",
        "print(read_text)"
      ],
      "metadata": {
        "colab": {
          "base_uri": "https://localhost:8080/"
        },
        "id": "eytwJaoINmQH",
        "outputId": "9ce37b00-8c3f-4492-c02f-11f6c9ae1cc5"
      },
      "execution_count": 3,
      "outputs": [
        {
          "output_type": "stream",
          "name": "stdout",
          "text": [
            "Text successfully written to 'sample_text_file.txt'\n",
            "\n",
            "Reading text from 'sample_text_file.txt':\n",
            "This is some sample text that will be written to the file.\n"
          ]
        }
      ]
    },
    {
      "cell_type": "code",
      "source": [
        "TASK 4\n",
        "# Write a Python program for a simple calculator using functions:\n",
        "# add, subtract, multiply, divide\n",
        "# Ask the user to select an operation and enter two numbers\n",
        "# Perform the calculation and print the result\n"
      ],
      "metadata": {
        "id": "cMcjUk8sQJRj"
      },
      "execution_count": null,
      "outputs": []
    },
    {
      "cell_type": "markdown",
      "source": [],
      "metadata": {
        "id": "zhZJtRZTQIas"
      }
    },
    {
      "cell_type": "code",
      "source": [
        "def add(x, y):\n",
        "    return x + y\n",
        "\n",
        "def subtract(x, y):\n",
        "    return x - y\n",
        "\n",
        "def multiply(x, y):\n",
        "    return x * y\n",
        "\n",
        "def divide(x, y):\n",
        "    if y == 0:\n",
        "        return \"Error! Division by zero.\"\n",
        "    else:\n",
        "        return x / y\n",
        "\n",
        "print(\"Select operation:\")\n",
        "print(\"1. Add\")\n",
        "print(\"2. Subtract\")\n",
        "print(\"3. Multiply\")\n",
        "print(\"4. Divide\")\n",
        "\n",
        "while True:\n",
        "    choice = input(\"Enter choice(1/2/3/4): \")\n",
        "\n",
        "    if choice in ('1', '2', '3', '4'):\n",
        "        try:\n",
        "            num1 = float(input(\"Enter first number: \"))\n",
        "            num2 = float(input(\"Enter second number: \"))\n",
        "        except ValueError:\n",
        "            print(\"Invalid input. Please enter numbers.\")\n",
        "            continue\n",
        "\n",
        "        if choice == '1':\n",
        "            print(num1, \"+\", num2, \"=\", add(num1, num2))\n",
        "\n",
        "        elif choice == '2':\n",
        "            print(num1, \"-\", num2, \"=\", subtract(num1, num2))\n",
        "\n",
        "        elif choice == '3':\n",
        "            print(num1, \"*\", num2, \"=\", multiply(num1, num2))\n",
        "\n",
        "        elif choice == '4':\n",
        "            result = divide(num1, num2)\n",
        "            print(num1, \"/\", num2, \"=\", result)\n",
        "        break\n",
        "    else:\n",
        "        print(\"Invalid Input\")"
      ],
      "metadata": {
        "colab": {
          "base_uri": "https://localhost:8080/"
        },
        "id": "0KQQCiCZN2Qb",
        "outputId": "e2b5175e-f2d2-4f86-a879-d0a4623a471e"
      },
      "execution_count": 7,
      "outputs": [
        {
          "output_type": "stream",
          "name": "stdout",
          "text": [
            "Select operation:\n",
            "1. Add\n",
            "2. Subtract\n",
            "3. Multiply\n",
            "4. Divide\n",
            "Enter choice(1/2/3/4): 3\n",
            "Enter first number: 6\n",
            "Enter second number: 9\n",
            "6.0 * 9.0 = 54.0\n"
          ]
        }
      ]
    },
    {
      "cell_type": "markdown",
      "source": [
        "TASK 4\n",
        "# Write a Python program that checks if a given year is a leap year."
      ],
      "metadata": {
        "id": "8Hm9XjmvQiiM"
      }
    },
    {
      "cell_type": "code",
      "source": [
        "def is_leap_year(year):\n",
        "    \"\"\"Checks if a given year is a leap year.\"\"\"\n",
        "    return (year % 4 == 0 and year % 100 != 0) or (year % 400 == 0)\n",
        "\n",
        "# Get input from the user\n",
        "try:\n",
        "    year_to_check = int(input(\"Enter a year: \"))\n",
        "    if is_leap_year(year_to_check):\n",
        "        print(f\"{year_to_check} is a leap year.\")\n",
        "    else:\n",
        "        print(f\"{year_to_check} is not a leap year.\")\n",
        "except ValueError:\n",
        "    print(\"Invalid input. Please enter a valid year (an integer).\")"
      ],
      "metadata": {
        "colab": {
          "base_uri": "https://localhost:8080/"
        },
        "id": "-z5ZOljtOGyA",
        "outputId": "b8133fc0-3f2d-40fd-ed04-946c2d2c139c"
      },
      "execution_count": 6,
      "outputs": [
        {
          "output_type": "stream",
          "name": "stdout",
          "text": [
            "Enter a year: 2019\n",
            "2019 is not a leap year.\n"
          ]
        }
      ]
    },
    {
      "cell_type": "markdown",
      "source": [],
      "metadata": {
        "id": "KCoK5C13OcU1"
      }
    }
  ]
}